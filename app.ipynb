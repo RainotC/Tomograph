{
 "cells": [
  {
   "metadata": {},
   "cell_type": "markdown",
   "source": "",
   "id": "91e52ee527c35f07"
  },
  {
   "metadata": {
    "ExecuteTime": {
     "end_time": "2025-04-16T19:09:46.390677Z",
     "start_time": "2025-04-16T19:09:44.846959Z"
    }
   },
   "cell_type": "code",
   "source": [
    "\n",
    "import skimage as ski\n",
    "import numpy as np\n",
    "import matplotlib.pyplot as plt\n",
    "import math\n",
    "import ipywidgets\n",
    "\n"
   ],
   "id": "51c52372a4be0a3",
   "outputs": [],
   "execution_count": 1
  },
  {
   "metadata": {
    "ExecuteTime": {
     "end_time": "2025-04-16T19:09:46.406308Z",
     "start_time": "2025-04-16T19:09:46.402687Z"
    }
   },
   "cell_type": "code",
   "source": [
    "def load_img(filename):\n",
    "    image = ski.io.imread(filename, as_gray=True)\n",
    "    image = ski.img_as_float(image)\n",
    "    return image"
   ],
   "id": "947a3cdd72bc15b1",
   "outputs": [],
   "execution_count": 2
  },
  {
   "metadata": {},
   "cell_type": "markdown",
   "source": "",
   "id": "90f156c71f81c63b"
  },
  {
   "metadata": {
    "ExecuteTime": {
     "end_time": "2025-04-16T19:09:46.416970Z",
     "start_time": "2025-04-16T19:09:46.411762Z"
    }
   },
   "cell_type": "code",
   "source": [
    "#globals\n",
    "reconstructed_image = None"
   ],
   "id": "8c08ba8960c64723",
   "outputs": [],
   "execution_count": 3
  },
  {
   "metadata": {
    "ExecuteTime": {
     "end_time": "2025-04-16T19:09:46.431549Z",
     "start_time": "2025-04-16T19:09:46.425428Z"
    }
   },
   "cell_type": "code",
   "source": [
    "def normalize(image):\n",
    "    image = (image - np.min(image)) / (np.max(image) - np.min(image))\n",
    "    image = image * 255\n",
    "    return image"
   ],
   "id": "7dbf16f44d691cfb",
   "outputs": [],
   "execution_count": 4
  },
  {
   "metadata": {
    "ExecuteTime": {
     "end_time": "2025-04-16T19:09:46.650406Z",
     "start_time": "2025-04-16T19:09:46.643217Z"
    }
   },
   "cell_type": "code",
   "source": [
    "def bresenham(x1,y1, x2, y2):\n",
    "    points = []\n",
    "    dx = abs(x2 - x1)\n",
    "    dy = abs(y2 - y1)\n",
    "    sx = 1 if x1 < x2 else -1\n",
    "    sy = 1 if y1 < y2 else -1\n",
    "    err = dx - dy\n",
    "\n",
    "    while True:\n",
    "        points.append((x1, y1))\n",
    "        if x1 == x2 and y1 == y2:\n",
    "            break\n",
    "        err2 = err * 2\n",
    "        if err2 > -dy:\n",
    "            err -= dy\n",
    "            x1 += sx\n",
    "        if err2 < dx:\n",
    "            err += dx\n",
    "            y1 += sy\n",
    "\n",
    "    return points\n"
   ],
   "id": "dc8e76168f13d3a9",
   "outputs": [],
   "execution_count": 5
  },
  {
   "metadata": {
    "ExecuteTime": {
     "end_time": "2025-04-16T19:09:46.744083Z",
     "start_time": "2025-04-16T19:09:46.740715Z"
    }
   },
   "cell_type": "code",
   "source": "",
   "id": "bbff8551aa684f1e",
   "outputs": [],
   "execution_count": null
  },
  {
   "metadata": {
    "ExecuteTime": {
     "end_time": "2025-04-16T19:09:46.793884Z",
     "start_time": "2025-04-16T19:09:46.785827Z"
    }
   },
   "cell_type": "code",
   "source": [
    "def radon_transform(image, angle=360, detectors=180, scans=360, angle_of_cone=90):  #scans = steps, angle = rotation angle\n",
    "    sinogram_steps = []\n",
    "\n",
    "    rows, cols = image.shape\n",
    "    center_y = rows // 2\n",
    "    center_x = cols // 2\n",
    "\n",
    "    emiters_positions = []\n",
    "\n",
    "    radius = np.sqrt(rows**2 + cols**2) / 2\n",
    "    sinogram = np.zeros((scans, detectors), dtype=image.dtype)\n",
    "    delta_alpha = angle / scans\n",
    "    for iteration in range(scans):\n",
    "        alpha = iteration * delta_alpha\n",
    "        x_e = int(center_x + radius * math.cos(math.radians(alpha)))\n",
    "        y_e = int(center_y + radius * math.sin(math.radians(alpha)))\n",
    "        emiters_positions.append((x_e, y_e))\n",
    "\n",
    "        for i in range(detectors):  # i as a detector number\n",
    "            x_di = int(center_x + radius * math.cos(math.radians(alpha + 180 - angle_of_cone + i * 2 * angle_of_cone / (detectors - 1))))\n",
    "            y_di = int(center_y + radius * math.sin(math.radians(alpha + 180 - angle_of_cone + i * 2 * angle_of_cone / (detectors - 1))))\n",
    "\n",
    "            points = bresenham(x_e, y_e, x_di, y_di)\n",
    "\n",
    "            total_intensity = 0\n",
    "            valid_points_count = 0\n",
    "            for x_b, y_b in points:\n",
    "                if 0 <= y_b < rows and 0 <= x_b < cols:\n",
    "                    total_intensity += image[y_b, x_b]\n",
    "                    valid_points_count += 1\n",
    "\n",
    "            if valid_points_count > 0:\n",
    "                total_intensity /= valid_points_count\n",
    "            sinogram[iteration, i] = total_intensity\n",
    "        sinogram_steps.append(sinogram.copy())\n",
    "\n",
    "    return sinogram, sinogram_steps, emiters_positions\n"
   ],
   "id": "27d0f7b37f597e81",
   "outputs": [],
   "execution_count": 6
  },
  {
   "metadata": {
    "ExecuteTime": {
     "end_time": "2025-04-16T19:09:46.819348Z",
     "start_time": "2025-04-16T19:09:46.813210Z"
    }
   },
   "cell_type": "code",
   "source": [
    "def inverse_radon_transform(sinogram, image_shape, angle=360, angle_of_cone=90):\n",
    "    steps = []\n",
    "    scans, detectors = sinogram.shape\n",
    "    rows, cols = image_shape\n",
    "    center_y = rows // 2\n",
    "    center_x = cols // 2\n",
    "    radius = np.sqrt(rows**2 + cols**2) / 2\n",
    "    delta_alpha = angle / scans\n",
    "    reconstruction = np.zeros((rows, cols), dtype=np.float32)\n",
    "\n",
    "    for iteration in range(scans):\n",
    "        alpha = iteration * delta_alpha\n",
    "        angle_rad = math.radians(alpha)\n",
    "        x_e = int(center_x + radius * math.cos(angle_rad))\n",
    "        y_e = int(center_y + radius * math.sin(angle_rad))\n",
    "\n",
    "        for i in range(detectors):\n",
    "            detector_angle = math.radians(alpha + 180 - angle_of_cone + i * 2 * angle_of_cone / (detectors - 1))\n",
    "            x_d = int(center_x + radius * math.cos(detector_angle))\n",
    "            y_d = int(center_y + radius * math.sin(detector_angle))\n",
    "\n",
    "\n",
    "            points = bresenham(x_e, y_e, x_d, y_d)\n",
    "\n",
    "            value = sinogram[iteration, i]\n",
    "\n",
    "            for x_b, y_b in points:\n",
    "                if 0 <= y_b < rows and 0 <= x_b < cols:\n",
    "                    reconstruction[y_b, x_b] += value\n",
    "        steps.append(reconstruction.copy())\n",
    "\n",
    "\n",
    "\n",
    "    return reconstruction, steps"
   ],
   "id": "ae62d3121bfb5ae9",
   "outputs": [],
   "execution_count": 7
  },
  {
   "metadata": {
    "ExecuteTime": {
     "end_time": "2025-04-16T19:09:46.828857Z",
     "start_time": "2025-04-16T19:09:46.825455Z"
    }
   },
   "cell_type": "code",
   "source": "\n",
   "id": "fdfa4058bdca8517",
   "outputs": [],
   "execution_count": 7
  },
  {
   "metadata": {
    "ExecuteTime": {
     "end_time": "2025-04-16T19:09:46.841344Z",
     "start_time": "2025-04-16T19:09:46.837448Z"
    }
   },
   "cell_type": "code",
   "source": [
    "def show_steps(n, steps, name):\n",
    "    plt.imshow(steps[n-1], cmap='gray')\n",
    "    plt.title(name + \" : Step \" + str(n))\n",
    "    plt.axis(\"off\")\n",
    "    plt.show()\n"
   ],
   "id": "9e33127e1fb9917f",
   "outputs": [],
   "execution_count": 8
  },
  {
   "metadata": {},
   "cell_type": "markdown",
   "source": "",
   "id": "db3b1bb7d72260dc"
  },
  {
   "metadata": {
    "ExecuteTime": {
     "end_time": "2025-04-16T19:09:46.852766Z",
     "start_time": "2025-04-16T19:09:46.850308Z"
    }
   },
   "cell_type": "code",
   "source": "",
   "id": "fd737366b9b4b9f8",
   "outputs": [],
   "execution_count": null
  },
  {
   "metadata": {
    "ExecuteTime": {
     "end_time": "2025-04-16T19:09:46.865218Z",
     "start_time": "2025-04-16T19:09:46.862706Z"
    }
   },
   "cell_type": "code",
   "source": "",
   "id": "b9fd6908261825c5",
   "outputs": [],
   "execution_count": null
  },
  {
   "metadata": {
    "ExecuteTime": {
     "end_time": "2025-04-16T19:10:52.148448Z",
     "start_time": "2025-04-16T19:09:46.878826Z"
    }
   },
   "cell_type": "code",
   "source": [
    "def interactive_main(filename, steps, detectors, angle_of_cone):\n",
    "    global reconstructed_image\n",
    "    image = load_img(filename)\n",
    "    sinogram, steps_sinogram, emiters = radon_transform(image, steps, detectors, steps, angle_of_cone)\n",
    "    reversed, steps_inversed = inverse_radon_transform(sinogram, image.shape, steps, angle_of_cone)\n",
    "\n",
    "    reversed = normalize(reversed.copy())\n",
    "    reconstructed_image = reversed.copy()\n",
    "    steps_inversed = [normalize(step.copy()) for step in steps_inversed]\n",
    "\n",
    "    fig, axes = plt.subplots(1, 3, figsize=(15, 5))\n",
    "\n",
    "    axes[0].imshow(image, cmap='gray')\n",
    "    axes[0].set_title(\"Obraz wejściowy\")\n",
    "    axes[0].axis(\"off\")\n",
    "    # if emiters:\n",
    "    #     xs, ys = zip(*emiters)\n",
    "    #     axes[0].scatter(xs, ys, c='red', s=10, label='Emiters')\n",
    "\n",
    "    axes[1].imshow(sinogram, cmap='gray')\n",
    "    axes[1].set_title(\"Sinogram\")\n",
    "    axes[1].axis(\"off\")\n",
    "\n",
    "    axes[2].imshow(reversed, cmap='gray')\n",
    "    axes[2].set_title(\"Obraz wyjściowy\")\n",
    "    axes[2].axis(\"off\")\n",
    "    plt.show()\n",
    "\n",
    "\n",
    "    ipywidgets.interact(\n",
    "        show_steps,\n",
    "        n=ipywidgets.IntSlider(min=1, max=len(steps_sinogram), step=1, value=1),\n",
    "        steps=ipywidgets.fixed(steps_sinogram),\n",
    "        name=ipywidgets.fixed(\"Sinogram Steps\")\n",
    "    )\n",
    "\n",
    "    ipywidgets.interact(\n",
    "        show_steps,\n",
    "        n=ipywidgets.IntSlider(min=1, max=len(steps_inversed), step=1, value=1),\n",
    "        steps=ipywidgets.fixed(steps_inversed),\n",
    "        name=ipywidgets.fixed(\"Reconstruction Steps\")\n",
    "    )\n",
    "\n",
    "def main_UI():\n",
    "    ipywidgets.interact(\n",
    "        interactive_main,\n",
    "        steps=ipywidgets.IntSlider(min=90, max=720, step=10, value=360, description=\"Steps\"),\n",
    "        detectors=ipywidgets.IntSlider(min=90, max=720, step=10, value=360, description=\"Detectors\"),\n",
    "        angle_of_cone=ipywidgets.IntSlider(min=10, max=180, step=5, value=90, description=\"Cone Angle\"),\n",
    "        filename=ipywidgets.Text(value='tomograf-obrazy/Kolo.jpg', description=\"Image Path\")\n",
    "    )\n",
    "\n",
    "main_UI()"
   ],
   "id": "a8bbc186c002ec8e",
   "outputs": [
    {
     "data": {
      "text/plain": [
       "interactive(children=(Text(value='tomograf-obrazy/Kolo.jpg', description='Image Path'), IntSlider(value=360, d…"
      ],
      "application/vnd.jupyter.widget-view+json": {
       "version_major": 2,
       "version_minor": 0,
       "model_id": "5d6e13fafe004c3481455effa3f907be"
      }
     },
     "metadata": {},
     "output_type": "display_data"
    }
   ],
   "execution_count": 9
  },
  {
   "metadata": {
    "ExecuteTime": {
     "end_time": "2025-04-16T19:10:52.190983Z",
     "start_time": "2025-04-16T19:10:52.188271Z"
    }
   },
   "cell_type": "code",
   "source": "",
   "id": "123332a0d3a6d41f",
   "outputs": [],
   "execution_count": null
  }
 ],
 "metadata": {
  "kernelspec": {
   "display_name": "Python 3",
   "language": "python",
   "name": "python3"
  },
  "language_info": {
   "codemirror_mode": {
    "name": "ipython",
    "version": 2
   },
   "file_extension": ".py",
   "mimetype": "text/x-python",
   "name": "python",
   "nbconvert_exporter": "python",
   "pygments_lexer": "ipython2",
   "version": "2.7.6"
  }
 },
 "nbformat": 4,
 "nbformat_minor": 5
}
