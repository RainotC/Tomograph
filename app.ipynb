{
 "cells": [
  {
   "metadata": {},
   "cell_type": "markdown",
   "source": "",
   "id": "91e52ee527c35f07"
  },
  {
   "metadata": {
    "ExecuteTime": {
     "end_time": "2025-04-16T21:25:54.553108Z",
     "start_time": "2025-04-16T21:25:54.549619Z"
    }
   },
   "cell_type": "code",
   "source": [
    "\n",
    "import skimage as ski\n",
    "import matplotlib.pyplot as plt\n",
    "import math\n",
    "import ipywidgets\n",
    "import numpy as np\n",
    "import pydicom\n",
    "from pydicom import uid\n",
    "from pydicom.dataset import Dataset, FileDataset\n",
    "import datetime\n",
    "import random\n",
    "\n",
    "\n",
    "from IPython.display import display\n",
    "\n"
   ],
   "id": "51c52372a4be0a3",
   "outputs": [],
   "execution_count": 40
  },
  {
   "metadata": {
    "ExecuteTime": {
     "end_time": "2025-04-16T21:25:54.585638Z",
     "start_time": "2025-04-16T21:25:54.582408Z"
    }
   },
   "cell_type": "code",
   "source": [
    "def load_img(filename):\n",
    "    image = ski.io.imread(filename, as_gray=True)\n",
    "    image = ski.img_as_float(image)\n",
    "    return image"
   ],
   "id": "947a3cdd72bc15b1",
   "outputs": [],
   "execution_count": 41
  },
  {
   "metadata": {},
   "cell_type": "markdown",
   "source": "",
   "id": "90f156c71f81c63b"
  },
  {
   "metadata": {
    "ExecuteTime": {
     "end_time": "2025-04-16T21:25:54.594264Z",
     "start_time": "2025-04-16T21:25:54.591704Z"
    }
   },
   "cell_type": "code",
   "source": [
    "#globals\n",
    "reconstructed_image = None"
   ],
   "id": "8c08ba8960c64723",
   "outputs": [],
   "execution_count": 42
  },
  {
   "metadata": {
    "ExecuteTime": {
     "end_time": "2025-04-16T21:25:54.605383Z",
     "start_time": "2025-04-16T21:25:54.602121Z"
    }
   },
   "cell_type": "code",
   "source": [
    "def normalize(image):\n",
    "    image = (image - np.min(image)) / (np.max(image) - np.min(image))\n",
    "    image = image * 255\n",
    "    return image"
   ],
   "id": "7dbf16f44d691cfb",
   "outputs": [],
   "execution_count": 43
  },
  {
   "metadata": {
    "ExecuteTime": {
     "end_time": "2025-04-16T21:25:54.616127Z",
     "start_time": "2025-04-16T21:25:54.612375Z"
    }
   },
   "cell_type": "code",
   "source": [
    "def bresenham(x1,y1, x2, y2):\n",
    "    points = []\n",
    "    dx = abs(x2 - x1)\n",
    "    dy = abs(y2 - y1)\n",
    "    sx = 1 if x1 < x2 else -1\n",
    "    sy = 1 if y1 < y2 else -1\n",
    "    err = dx - dy\n",
    "\n",
    "    while True:\n",
    "        points.append((x1, y1))\n",
    "        if x1 == x2 and y1 == y2:\n",
    "            break\n",
    "        err2 = err * 2\n",
    "        if err2 > -dy:\n",
    "            err -= dy\n",
    "            x1 += sx\n",
    "        if err2 < dx:\n",
    "            err += dx\n",
    "            y1 += sy\n",
    "\n",
    "    return points\n"
   ],
   "id": "dc8e76168f13d3a9",
   "outputs": [],
   "execution_count": 44
  },
  {
   "metadata": {
    "ExecuteTime": {
     "end_time": "2025-04-16T21:25:54.625656Z",
     "start_time": "2025-04-16T21:25:54.623771Z"
    }
   },
   "cell_type": "code",
   "source": "",
   "id": "bbff8551aa684f1e",
   "outputs": [],
   "execution_count": null
  },
  {
   "metadata": {
    "ExecuteTime": {
     "end_time": "2025-04-16T21:25:54.646249Z",
     "start_time": "2025-04-16T21:25:54.633397Z"
    }
   },
   "cell_type": "code",
   "source": [
    "def radon_transform(image, angle=360, detectors=180, scans=360, angle_of_cone=90):  #scans = steps, angle = rotation angle\n",
    "    sinogram_steps = []\n",
    "\n",
    "    rows, cols = image.shape\n",
    "    center_y = rows // 2\n",
    "    center_x = cols // 2\n",
    "\n",
    "    emiters_positions = []\n",
    "\n",
    "    radius = np.sqrt(rows**2 + cols**2) / 2\n",
    "    sinogram = np.zeros((scans, detectors), dtype=image.dtype)\n",
    "    delta_alpha = angle / scans\n",
    "    for iteration in range(scans):\n",
    "        alpha = iteration * delta_alpha\n",
    "        x_e = int(center_x + radius * math.cos(math.radians(alpha)))\n",
    "        y_e = int(center_y + radius * math.sin(math.radians(alpha)))\n",
    "        emiters_positions.append((x_e, y_e))\n",
    "\n",
    "        for i in range(detectors):  # i as a detector number\n",
    "            x_di = int(center_x + radius * math.cos(math.radians(alpha + 180 - angle_of_cone + i * 2 * angle_of_cone / (detectors - 1))))\n",
    "            y_di = int(center_y + radius * math.sin(math.radians(alpha + 180 - angle_of_cone + i * 2 * angle_of_cone / (detectors - 1))))\n",
    "\n",
    "            points = bresenham(x_e, y_e, x_di, y_di)\n",
    "\n",
    "            total_intensity = 0\n",
    "            valid_points_count = 0\n",
    "            for x_b, y_b in points:\n",
    "                if 0 <= y_b < rows and 0 <= x_b < cols:\n",
    "                    total_intensity += image[y_b, x_b]\n",
    "                    valid_points_count += 1\n",
    "\n",
    "            if valid_points_count > 0:\n",
    "                total_intensity /= valid_points_count\n",
    "            sinogram[iteration, i] = total_intensity\n",
    "        sinogram_steps.append(sinogram.copy())\n",
    "\n",
    "    return sinogram, sinogram_steps, emiters_positions\n"
   ],
   "id": "27d0f7b37f597e81",
   "outputs": [],
   "execution_count": 45
  },
  {
   "metadata": {
    "ExecuteTime": {
     "end_time": "2025-04-16T21:25:54.665730Z",
     "start_time": "2025-04-16T21:25:54.660618Z"
    }
   },
   "cell_type": "code",
   "source": [
    "def inverse_radon_transform(sinogram, image_shape, angle=360, angle_of_cone=90):\n",
    "    steps = []\n",
    "    scans, detectors = sinogram.shape\n",
    "    rows, cols = image_shape\n",
    "    center_y = rows // 2\n",
    "    center_x = cols // 2\n",
    "    radius = np.sqrt(rows**2 + cols**2) / 2\n",
    "    delta_alpha = angle / scans\n",
    "    reconstruction = np.zeros((rows, cols), dtype=np.float32)\n",
    "\n",
    "    for iteration in range(scans):\n",
    "        alpha = iteration * delta_alpha\n",
    "        angle_rad = math.radians(alpha)\n",
    "        x_e = int(center_x + radius * math.cos(angle_rad))\n",
    "        y_e = int(center_y + radius * math.sin(angle_rad))\n",
    "\n",
    "        for i in range(detectors):\n",
    "            detector_angle = math.radians(alpha + 180 - angle_of_cone + i * 2 * angle_of_cone / (detectors - 1))\n",
    "            x_d = int(center_x + radius * math.cos(detector_angle))\n",
    "            y_d = int(center_y + radius * math.sin(detector_angle))\n",
    "\n",
    "\n",
    "            points = bresenham(x_e, y_e, x_d, y_d)\n",
    "\n",
    "            value = sinogram[iteration, i]\n",
    "\n",
    "            for x_b, y_b in points:\n",
    "                if 0 <= y_b < rows and 0 <= x_b < cols:\n",
    "                    reconstruction[y_b, x_b] += value\n",
    "        steps.append(reconstruction.copy())\n",
    "\n",
    "\n",
    "\n",
    "    return reconstruction, steps"
   ],
   "id": "ae62d3121bfb5ae9",
   "outputs": [],
   "execution_count": 46
  },
  {
   "metadata": {
    "ExecuteTime": {
     "end_time": "2025-04-16T21:25:54.675891Z",
     "start_time": "2025-04-16T21:25:54.669654Z"
    }
   },
   "cell_type": "code",
   "source": [
    "\n",
    "def save_dicom(b, output):\n",
    "    with output:\n",
    "        print(\"🔔 Save button clicked!\")\n",
    "    global reconstructed_image\n",
    "    if reconstructed_image is None:\n",
    "        with output:\n",
    "            print(\"No image to save. Please run the reconstruction first.\")\n",
    "    else:\n",
    "        with output:\n",
    "            print(\"There is an image to save\")\n",
    "    filename = output_file_name.value + \".dcm\"\n",
    "    ds = pydicom.Dataset()\n",
    "\n",
    "\n",
    "    file_meta = pydicom.dataset.FileMetaDataset()\n",
    "    file_meta.MediaStorageSOPClassUID = pydicom.uid.SecondaryCaptureImageStorage\n",
    "    file_meta.MediaStorageSOPInstanceUID = pydicom.uid.generate_uid()\n",
    "    file_meta.TransferSyntaxUID = pydicom.uid.ExplicitVRLittleEndian\n",
    "    file_meta.ImplementationClassUID = pydicom.uid.generate_uid()\n",
    "    file_meta.ImplementationVersionName = \"PYDICOM 2.0.0\"\n",
    "\n",
    "    ds.file_meta = file_meta\n",
    "\n",
    "    ds.PatientName = patient_name.value\n",
    "    ds.PatientID = patient_id.value\n",
    "    ds.PatientBirthDate = patient_birth.value\n",
    "    ds.PatientSex = patient_sex.value\n",
    "    ds.ExamDate = date_of_exam.value\n",
    "\n",
    "    ds.Modality = \"CT\"\n",
    "    ds.StudyDate = date_of_exam.value\n",
    "\n",
    "    ds.StudyInstanceUID = pydicom.uid.generate_uid()\n",
    "    ds.SeriesInstanceUID = pydicom.uid.generate_uid()\n",
    "    ds.SOPInstanceUID = pydicom.uid.generate_uid()\n",
    "    ds.SOPClassUID = pydicom.uid.CTImageStorage\n",
    "    ds.ImageType = [\"ORIGINAL\", \"PRIMARY\", \"AXIAL\"]\n",
    "    ds.InstanceNumber = str(random.randint(1, 100))\n",
    "    ds.ImagesInAcquisition = \"1\"\n",
    "    ds.FrameOfReferenceUID = pydicom.uid.generate_uid()\n",
    "    ds.ImageComments = comment.value\n",
    "\n",
    "    ds.Rows, ds.Columns = reconstructed_image.shape\n",
    "    ds.PhotometricInterpretation = \"MONOCHROME2\"\n",
    "    ds.SamplesPerPixel = 1\n",
    "    ds.BitsAllocated = 16\n",
    "    ds.BitsStored = 16\n",
    "    ds.HighBit = 15\n",
    "    ds.PixelRepresentation = 0\n",
    "    ds.PixelData = (reconstructed_image.astype(np.uint16)).tobytes()\n",
    "\n",
    "    ds.is_little_endian = True\n",
    "    ds.is_implicit_VR = False\n",
    "    ds.save_as(filename, write_like_original=False)\n",
    "    with output:\n",
    "        print(\"DICOM file saved successfully.\")\n"
   ],
   "id": "fdfa4058bdca8517",
   "outputs": [],
   "execution_count": 47
  },
  {
   "metadata": {
    "ExecuteTime": {
     "end_time": "2025-04-16T21:25:54.687860Z",
     "start_time": "2025-04-16T21:25:54.684926Z"
    }
   },
   "cell_type": "code",
   "source": [
    "def show_steps(n, steps, name):\n",
    "    plt.imshow(steps[n-1], cmap='gray')\n",
    "    plt.title(name + \" : Step \" + str(n))\n",
    "    plt.axis(\"off\")\n",
    "    plt.show()\n"
   ],
   "id": "9e33127e1fb9917f",
   "outputs": [],
   "execution_count": 48
  },
  {
   "metadata": {},
   "cell_type": "markdown",
   "source": "",
   "id": "db3b1bb7d72260dc"
  },
  {
   "metadata": {
    "ExecuteTime": {
     "end_time": "2025-04-16T21:25:54.705459Z",
     "start_time": "2025-04-16T21:25:54.702948Z"
    }
   },
   "cell_type": "code",
   "source": "",
   "id": "fd737366b9b4b9f8",
   "outputs": [],
   "execution_count": null
  },
  {
   "metadata": {
    "ExecuteTime": {
     "end_time": "2025-04-16T21:25:54.710521Z",
     "start_time": "2025-04-16T21:25:54.708609Z"
    }
   },
   "cell_type": "code",
   "source": "",
   "id": "b9fd6908261825c5",
   "outputs": [],
   "execution_count": null
  },
  {
   "metadata": {
    "ExecuteTime": {
     "end_time": "2025-04-16T21:26:44.985533Z",
     "start_time": "2025-04-16T21:25:54.730378Z"
    }
   },
   "cell_type": "code",
   "source": [
    "def interactive_main(filename, steps, detectors, angle_of_cone):\n",
    "    global reconstructed_image\n",
    "    image = load_img(filename)\n",
    "    sinogram, steps_sinogram, emiters = radon_transform(image, steps, detectors, steps, angle_of_cone)\n",
    "    reversed, steps_inversed = inverse_radon_transform(sinogram, image.shape, steps, angle_of_cone)\n",
    "\n",
    "    reversed = normalize(reversed.copy())\n",
    "    reconstructed_image = reversed.copy()\n",
    "    steps_inversed = [normalize(step.copy()) for step in steps_inversed]\n",
    "\n",
    "    fig, axes = plt.subplots(1, 3, figsize=(15, 5))\n",
    "\n",
    "    axes[0].imshow(image, cmap='gray')\n",
    "    axes[0].set_title(\"Obraz wejściowy\")\n",
    "    axes[0].axis(\"off\")\n",
    "    # if emiters:\n",
    "    #     xs, ys = zip(*emiters)\n",
    "    #     axes[0].scatter(xs, ys, c='red', s=10, label='Emiters')\n",
    "\n",
    "    axes[1].imshow(sinogram, cmap='gray')\n",
    "    axes[1].set_title(\"Sinogram\")\n",
    "    axes[1].axis(\"off\")\n",
    "\n",
    "    axes[2].imshow(reversed, cmap='gray')\n",
    "    axes[2].set_title(\"Obraz wyjściowy\")\n",
    "    axes[2].axis(\"off\")\n",
    "    plt.show()\n",
    "\n",
    "\n",
    "    ipywidgets.interact(\n",
    "        show_steps,\n",
    "        n=ipywidgets.IntSlider(min=1, max=len(steps_sinogram), step=1, value=1),\n",
    "        steps=ipywidgets.fixed(steps_sinogram),\n",
    "        name=ipywidgets.fixed(\"Sinogram Steps\")\n",
    "    )\n",
    "\n",
    "    ipywidgets.interact(\n",
    "        show_steps,\n",
    "        n=ipywidgets.IntSlider(min=1, max=len(steps_inversed), step=1, value=1),\n",
    "        steps=ipywidgets.fixed(steps_inversed),\n",
    "        name=ipywidgets.fixed(\"Reconstruction Steps\")\n",
    "    )\n",
    "\n",
    "def main_UI():\n",
    "    ipywidgets.interact(\n",
    "        interactive_main,\n",
    "        steps=ipywidgets.IntSlider(min=90, max=720, step=10, value=360, description=\"Steps\"),\n",
    "        detectors=ipywidgets.IntSlider(min=90, max=720, step=10, value=360, description=\"Detectors\"),\n",
    "        angle_of_cone=ipywidgets.IntSlider(min=10, max=180, step=5, value=90, description=\"Cone Angle\"),\n",
    "        filename=ipywidgets.Text(value='tomograf-obrazy/Kolo.jpg', description=\"Image Path\")\n",
    "    )\n",
    "\n",
    "\n",
    "main_UI()\n",
    "print(reconstructed_image is None)\n"
   ],
   "id": "a8bbc186c002ec8e",
   "outputs": [
    {
     "data": {
      "text/plain": [
       "interactive(children=(Text(value='tomograf-obrazy/Kolo.jpg', description='Image Path'), IntSlider(value=360, d…"
      ],
      "application/vnd.jupyter.widget-view+json": {
       "version_major": 2,
       "version_minor": 0,
       "model_id": "9f3be93a745d4f1c896b79535b421922"
      }
     },
     "metadata": {},
     "output_type": "display_data"
    },
    {
     "name": "stdout",
     "output_type": "stream",
     "text": [
      "False\n"
     ]
    }
   ],
   "execution_count": 49
  },
  {
   "metadata": {
    "ExecuteTime": {
     "end_time": "2025-04-16T21:26:45.022028Z",
     "start_time": "2025-04-16T21:26:44.997817Z"
    }
   },
   "cell_type": "code",
   "source": [
    "output = ipywidgets.Output()\n",
    "output_file_name = ipywidgets.Text(description=\"File name:\", value=\"output\")\n",
    "patient_name = ipywidgets.Text(description=\"Name:\", value=\"John Doe\")\n",
    "patient_id = ipywidgets.Text(description=\"ID:\", value= \"123456\")\n",
    "patient_birth = ipywidgets.DatePicker(description=\"Birth date:\", value=datetime.date.today())\n",
    "patient_sex = ipywidgets.Dropdown(description=\"Sex:\", options=['M', 'F'], value='M')\n",
    "date_of_exam = ipywidgets.DatePicker(description=\"Date of exam:\", value=datetime.date.today())\n",
    "comment = ipywidgets.Text(description=\"Comment:\", value=\"Check-up\")\n",
    "save_button = ipywidgets.Button(description=\"Save as DICOM\")\n",
    "display(output_file_name, patient_name, patient_id, patient_birth, patient_birth, patient_sex, date_of_exam, comment)\n",
    "display(save_button, output)\n",
    "\n",
    "save_button.on_click(lambda b: save_dicom(b, output))"
   ],
   "id": "4a0248c260b17827",
   "outputs": [
    {
     "data": {
      "text/plain": [
       "Text(value='output', description='File name:')"
      ],
      "application/vnd.jupyter.widget-view+json": {
       "version_major": 2,
       "version_minor": 0,
       "model_id": "3ba70ad0dcfd46d2b17df466c89ba5e0"
      }
     },
     "metadata": {},
     "output_type": "display_data"
    },
    {
     "data": {
      "text/plain": [
       "Text(value='John Doe', description='Name:')"
      ],
      "application/vnd.jupyter.widget-view+json": {
       "version_major": 2,
       "version_minor": 0,
       "model_id": "9246ab2814b745ce9ee33e008faa1c6b"
      }
     },
     "metadata": {},
     "output_type": "display_data"
    },
    {
     "data": {
      "text/plain": [
       "Text(value='123456', description='ID:')"
      ],
      "application/vnd.jupyter.widget-view+json": {
       "version_major": 2,
       "version_minor": 0,
       "model_id": "090bc688f92c48c489f234bb33744568"
      }
     },
     "metadata": {},
     "output_type": "display_data"
    },
    {
     "data": {
      "text/plain": [
       "DatePicker(value=datetime.date(2025, 4, 16), description='Birth date:', step=1)"
      ],
      "application/vnd.jupyter.widget-view+json": {
       "version_major": 2,
       "version_minor": 0,
       "model_id": "cc8e5f898c54461a9de4c05655bd0fa7"
      }
     },
     "metadata": {},
     "output_type": "display_data"
    },
    {
     "data": {
      "text/plain": [
       "DatePicker(value=datetime.date(2025, 4, 16), description='Birth date:', step=1)"
      ],
      "application/vnd.jupyter.widget-view+json": {
       "version_major": 2,
       "version_minor": 0,
       "model_id": "cc8e5f898c54461a9de4c05655bd0fa7"
      }
     },
     "metadata": {},
     "output_type": "display_data"
    },
    {
     "data": {
      "text/plain": [
       "Dropdown(description='Sex:', options=('M', 'F'), value='M')"
      ],
      "application/vnd.jupyter.widget-view+json": {
       "version_major": 2,
       "version_minor": 0,
       "model_id": "a1afda8faf4e45d79836ce04e739739b"
      }
     },
     "metadata": {},
     "output_type": "display_data"
    },
    {
     "data": {
      "text/plain": [
       "DatePicker(value=datetime.date(2025, 4, 16), description='Date of exam:', step=1)"
      ],
      "application/vnd.jupyter.widget-view+json": {
       "version_major": 2,
       "version_minor": 0,
       "model_id": "9264a88f4a7b4d18916a11986a2965d4"
      }
     },
     "metadata": {},
     "output_type": "display_data"
    },
    {
     "data": {
      "text/plain": [
       "Text(value='Check-up', description='Comment:')"
      ],
      "application/vnd.jupyter.widget-view+json": {
       "version_major": 2,
       "version_minor": 0,
       "model_id": "e554d147cd934f73ab6c745c94ed5c69"
      }
     },
     "metadata": {},
     "output_type": "display_data"
    },
    {
     "data": {
      "text/plain": [
       "Button(description='Save as DICOM', style=ButtonStyle())"
      ],
      "application/vnd.jupyter.widget-view+json": {
       "version_major": 2,
       "version_minor": 0,
       "model_id": "753103fe2aaf430c93e571e0c0fa267c"
      }
     },
     "metadata": {},
     "output_type": "display_data"
    },
    {
     "data": {
      "text/plain": [
       "Output()"
      ],
      "application/vnd.jupyter.widget-view+json": {
       "version_major": 2,
       "version_minor": 0,
       "model_id": "bc93e75a1a534315b7c41d23fb30e694"
      }
     },
     "metadata": {},
     "output_type": "display_data"
    }
   ],
   "execution_count": 50
  }
 ],
 "metadata": {
  "kernelspec": {
   "display_name": "Python 3",
   "language": "python",
   "name": "python3"
  },
  "language_info": {
   "codemirror_mode": {
    "name": "ipython",
    "version": 2
   },
   "file_extension": ".py",
   "mimetype": "text/x-python",
   "name": "python",
   "nbconvert_exporter": "python",
   "pygments_lexer": "ipython2",
   "version": "2.7.6"
  }
 },
 "nbformat": 4,
 "nbformat_minor": 5
}
